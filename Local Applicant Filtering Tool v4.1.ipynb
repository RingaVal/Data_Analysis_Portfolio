{
 "cells": [
  {
   "cell_type": "markdown",
   "metadata": {
    "id": "dzUNUw5uwIjQ"
   },
   "source": [
    "# HR Applicant Filtering System"
   ]
  },
  {
   "cell_type": "markdown",
   "metadata": {
    "id": "F3e11Q_VGqcc"
   },
   "source": [
    "## Data Collection"
   ]
  },
  {
   "cell_type": "code",
   "execution_count": 1,
   "metadata": {
    "cellView": "form",
    "executionInfo": {
     "elapsed": 8525,
     "status": "ok",
     "timestamp": 1724988138252,
     "user": {
      "displayName": "Alvin Gabriel Valerio",
      "userId": "10386532810859959491"
     },
     "user_tz": -480
    },
    "id": "cIJxPuZO63eJ"
   },
   "outputs": [],
   "source": [
    "#@title Installation\n",
    "%%capture\n",
    "import importlib\n",
    "# List of required libraries\n",
    "required_libraries = [\"PyMuPDF\", \"nltk\", \"python-docx\"]\n",
    "\n",
    "# Check if each library is installed, and install if not\n",
    "for lib in required_libraries:\n",
    "    try:\n",
    "        importlib.import_module(lib)\n",
    "        print(f\"{lib} is already installed.\")\n",
    "    except ImportError:\n",
    "        print(f\"{lib} is not installed. Installing...\")\n",
    "        !pip install {lib}"
   ]
  },
  {
   "cell_type": "code",
   "execution_count": 2,
   "metadata": {
    "cellView": "form",
    "executionInfo": {
     "elapsed": 910,
     "status": "ok",
     "timestamp": 1724988139155,
     "user": {
      "displayName": "Alvin Gabriel Valerio",
      "userId": "10386532810859959491"
     },
     "user_tz": -480
    },
    "id": "aCuqRhOz65DY"
   },
   "outputs": [],
   "source": [
    "#@title Libraries\n",
    "%%capture\n",
    "import concurrent.futures\n",
    "from concurrent.futures import ThreadPoolExecutor\n",
    "from IPython.display import FileLink\n",
    "import gdown  # For downloading files from Google Drive\n",
    "from bs4 import BeautifulSoup  # For parsing HTML\n",
    "from googleapiclient.http import MediaIoBaseDownload\n",
    "from datetime import datetime, timezone, timedelta\n",
    "from collections import Counter\n",
    "from IPython.display import display, HTML\n",
    "import ipywidgets as widgets\n",
    "from io import BytesIO\n",
    "import ipywidgets as widgets\n",
    "import gspread\n",
    "from google.colab import auth\n",
    "from oauth2client.service_account import ServiceAccountCredentials\n",
    "from google.oauth2 import service_account\n",
    "from googleapiclient.discovery import build\n",
    "import json\n",
    "import requests\n",
    "import pandas as pd\n",
    "import numpy as np\n",
    "import openpyxl\n",
    "import re\n",
    "import os\n",
    "import fitz\n",
    "import nltk\n",
    "nltk.download('punkt')\n",
    "from nltk.tokenize import word_tokenize\n",
    "from nltk.corpus import stopwords\n",
    "nltk.download('stopwords')\n",
    "from docx import Document ;"
   ]
  },
  {
   "cell_type": "code",
   "execution_count": 3,
   "metadata": {
    "cellView": "form",
    "executionInfo": {
     "elapsed": 4,
     "status": "ok",
     "timestamp": 1724988139156,
     "user": {
      "displayName": "Alvin Gabriel Valerio",
      "userId": "10386532810859959491"
     },
     "user_tz": -480
    },
    "id": "YM9QfBmeQcUN"
   },
   "outputs": [],
   "source": [
    "# @title BLK\n",
    "json_key = {\n",
    "\n",
    "}"
   ]
  },
  {
   "cell_type": "code",
   "execution_count": 4,
   "metadata": {
    "cellView": "form",
    "executionInfo": {
     "elapsed": 2408,
     "status": "ok",
     "timestamp": 1724988141561,
     "user": {
      "displayName": "Alvin Gabriel Valerio",
      "userId": "10386532810859959491"
     },
     "user_tz": -480
    },
    "id": "y7XFKqs7Q71g"
   },
   "outputs": [],
   "source": [
    "# @title Authentication/Access\n",
    "# Authenticate with Google Sheets using the JSON key\n",
    "scope_sheets = ['https://spreadsheets.google.com/feeds', 'https://www.googleapis.com/auth/drive']\n",
    "creds_sheets = ServiceAccountCredentials.from_json_keyfile_dict(json_key, scope_sheets)\n",
    "client_sheets = gspread.authorize(creds_sheets)\n",
    "\n",
    "# Authenticate with Google Drive using the JSON key\n",
    "scope_drive = ['https://www.googleapis.com/auth/drive']\n",
    "creds_drive = service_account.Credentials.from_service_account_info(json_key, scopes=scope_drive)\n",
    "service_drive = build('drive', 'v3', credentials=creds_drive)\n",
    "\n",
    "# Access Google Sheets\n",
    "worksheet_name = \"Sheet1\"\n",
    "worksheet = client_sheets.open('screening_repo').worksheet(worksheet_name)"
   ]
  },
  {
   "cell_type": "code",
   "execution_count": 5,
   "metadata": {
    "cellView": "form",
    "colab": {
     "base_uri": "https://localhost:8080/"
    },
    "executionInfo": {
     "elapsed": 6,
     "status": "ok",
     "timestamp": 1724988141562,
     "user": {
      "displayName": "Alvin Gabriel Valerio",
      "userId": "10386532810859959491"
     },
     "user_tz": -480
    },
    "id": "FRX3CZysSWZO",
    "outputId": "e4a4d9b3-6543-4ebf-a589-d9dd973ad984"
   },
   "outputs": [
    {
     "name": "stdout",
     "output_type": "stream",
     "text": [
      "DataFrame 'df' created successfully.\n"
     ]
    }
   ],
   "source": [
    "# @title Appending the Dataframe\n",
    "# Check if DataFrame 'df' already exists\n",
    "if 'df' in globals():\n",
    "    print(\"DataFrame 'df' already exists. Skipping...\")\n",
    "else:\n",
    "    # Get all values from the worksheet\n",
    "    rows = worksheet.get_all_values()\n",
    "\n",
    "    # Convert to DataFrame\n",
    "    df = pd.DataFrame(rows[1:], columns=rows[0])  # Assuming the first row contains column headers\n",
    "    df['Total Score'] = 0\n",
    "    df['Qualification'] = ''\n",
    "    print(\"DataFrame 'df' created successfully.\")"
   ]
  },
  {
   "cell_type": "code",
   "execution_count": 6,
   "metadata": {
    "cellView": "form",
    "colab": {
     "base_uri": "https://localhost:8080/"
    },
    "executionInfo": {
     "elapsed": 1184,
     "status": "ok",
     "timestamp": 1724988142742,
     "user": {
      "displayName": "Alvin Gabriel Valerio",
      "userId": "10386532810859959491"
     },
     "user_tz": -480
    },
    "id": "bFfnTaKDRMEX",
    "outputId": "14f773c1-7192-4004-ebdb-0c5864a3f926"
   },
   "outputs": [
    {
     "name": "stdout",
     "output_type": "stream",
     "text": [
      "DataFrame 'dfb' created successfully.\n"
     ]
    }
   ],
   "source": [
    "# @title DFB\n",
    "# Access Google Sheets\n",
    "worksheet_name = \"TS\"\n",
    "worksheet2 = client_sheets.open('Initial Screening').worksheet(worksheet_name)\n",
    "\n",
    "\n",
    "# Get all values from the worksheet\n",
    "rows = worksheet2.get_all_values()\n",
    "\n",
    "    # Convert to DataFrame\n",
    "dfb = pd.DataFrame(rows[1:], columns=rows[0])  # Assuming the first row contains column headers\n",
    "\n",
    "print(\"DataFrame 'dfb' created successfully.\")"
   ]
  },
  {
   "cell_type": "code",
   "execution_count": 7,
   "metadata": {
    "cellView": "form",
    "colab": {
     "base_uri": "https://localhost:8080/"
    },
    "executionInfo": {
     "elapsed": 22,
     "status": "ok",
     "timestamp": 1724988142742,
     "user": {
      "displayName": "Alvin Gabriel Valerio",
      "userId": "10386532810859959491"
     },
     "user_tz": -480
    },
    "id": "u1iAW2ga0SGH",
    "outputId": "1826bdc9-37ae-4143-b7fb-21860afb1a83"
   },
   "outputs": [
    {
     "name": "stdout",
     "output_type": "stream",
     "text": [
      "Columns renamed successfully.\n"
     ]
    }
   ],
   "source": [
    "# @title Renaming columns\n",
    "if \"CV_Link\" in dfb.columns:\n",
    "    print(\"CV_Link already exists. Skipping column renaming...\")\n",
    "else:\n",
    "    # Rename columns by index\n",
    "    dfb.columns.values[1] = 'Name'\n",
    "    dfb.columns.values[2] = 'Position'\n",
    "    dfb.columns.values[4] = 'Contact_No'\n",
    "    dfb.columns.values[5] = 'Email'\n",
    "    dfb.columns.values[7] = 'Employment_Status'\n",
    "    dfb.columns.values[9] = 'Training_MF_5AM'\n",
    "    dfb.columns.values[10] = 'Device'\n",
    "    dfb.columns.values[11] = 'ISP'\n",
    "    dfb.columns.values[12] = 'Jobsite/Refrerral'\n",
    "    dfb.columns.values[14] = 'CV_Link'\n",
    "    print(\"Columns renamed successfully.\")\n",
    "\n",
    "# Remove leading and trailing whitespace from column names\n",
    "dfb.columns = dfb.columns.str.strip()\n"
   ]
  },
  {
   "cell_type": "code",
   "execution_count": null,
   "metadata": {
    "cellView": "form",
    "id": "xD5dvoKCSo1S"
   },
   "outputs": [],
   "source": [
    "# @title Appending New Rows\n",
    "# Left merge dataframes dfb and df on the \"CV_Link\" column\n",
    "merged_df = pd.merge(dfb, df[['CV_Link', 'Total Score', 'Qualification', 'Text', 'CleanedText']],\n",
    "                     on='CV_Link', how='left')\n",
    "\n",
    "# Fill NaN values with the desired values\n",
    "merged_df['Total Score'].fillna(0, inplace=True)\n",
    "merged_df['Qualification'].fillna('', inplace=True)\n",
    "merged_df['Text'].fillna('', inplace=True)\n",
    "merged_df['CleanedText'].fillna('', inplace=True)\n",
    "\n",
    "# Drop rows with empty values in the \"CV_Link\" column\n",
    "merged_df.dropna(subset=['CV_Link'], inplace=True)\n",
    "\n",
    "# Filter out rows with empty strings in the \"CV_Link\" column\n",
    "merged_df = merged_df[merged_df['CV_Link'] != '']\n",
    "\n",
    "# Drop rows in the \"Status\" column that contain strings\n",
    "merged_df = merged_df[~merged_df['Screening  Status'].str.contains('[a-zA-Z]')]\n",
    "\n",
    "# Reset index\n",
    "merged_df.reset_index(drop=True, inplace=True)\n",
    "\n",
    "\n",
    "merged_df.tail()"
   ]
  },
  {
   "cell_type": "code",
   "execution_count": 10,
   "metadata": {
    "cellView": "form",
    "executionInfo": {
     "elapsed": 1076,
     "status": "ok",
     "timestamp": 1724988143803,
     "user": {
      "displayName": "Alvin Gabriel Valerio",
      "userId": "10386532810859959491"
     },
     "user_tz": -480
    },
    "id": "vYBE-M921IQk"
   },
   "outputs": [],
   "source": [
    "# @title GDrive Engine\n",
    "# Define the function for batch processing to download and extract text\n",
    "def batch_download_and_extract_text(service, urls):\n",
    "    texts = []\n",
    "    for url in urls:\n",
    "        try:\n",
    "            # Extract file ID from the URL\n",
    "            file_id = url.split('=')[-1]\n",
    "\n",
    "            # Retrieve metadata to get the file name\n",
    "            file_metadata = service.files().get(fileId=file_id, fields=\"name\").execute()\n",
    "            filename = file_metadata['name']\n",
    "\n",
    "            # Download the file\n",
    "            request = service.files().get_media(fileId=file_id)\n",
    "            fh = BytesIO()\n",
    "            downloader = MediaIoBaseDownload(fh, request)\n",
    "\n",
    "            done = False\n",
    "            while not done:\n",
    "                status, done = downloader.next_chunk()\n",
    "\n",
    "            fh.seek(0)\n",
    "\n",
    "            # Extract text based on file type\n",
    "            _, file_extension = os.path.splitext(filename)\n",
    "            if file_extension.lower() == '.pdf':\n",
    "                # Extract text from the PDF file using PyMuPDF (fitz)\n",
    "                text = \"\"\n",
    "                with fitz.open(stream=fh, filetype=\"pdf\") as pdf_doc:\n",
    "                    for page_num in range(len(pdf_doc)):\n",
    "                        page = pdf_doc.load_page(page_num)\n",
    "                        text += page.get_text()\n",
    "            elif file_extension.lower() in ['.docx', '.doc']:\n",
    "                # Extract text from the DOCX or DOC file using python-docx\n",
    "                doc = Document(fh)\n",
    "                text = \"\\n\".join([para.text for para in doc.paragraphs])\n",
    "            else:\n",
    "                # Unsupported file type\n",
    "                print(f\"Unsupported file type for URL: {url}\")\n",
    "                text = \"Invalid File Format/No Access\"\n",
    "\n",
    "            if not text.strip():\n",
    "                text = \"Invalid File Format/No Access\"\n",
    "\n",
    "            texts.append(text)\n",
    "        except Exception as e:\n",
    "            print(f\"An error occurred while downloading or extracting text from the file: {e}\")\n",
    "            texts.append(\"Invalid File Format/No Access\")\n",
    "\n",
    "    return texts"
   ]
  },
  {
   "cell_type": "code",
   "execution_count": 11,
   "metadata": {
    "cellView": "form",
    "colab": {
     "base_uri": "https://localhost:8080/"
    },
    "executionInfo": {
     "elapsed": 16,
     "status": "ok",
     "timestamp": 1724988143803,
     "user": {
      "displayName": "Alvin Gabriel Valerio",
      "userId": "10386532810859959491"
     },
     "user_tz": -480
    },
    "id": "Gw0fKmBP5uh1",
    "outputId": "45ca1abe-602e-4241-8f70-28da88fb104a"
   },
   "outputs": [
    {
     "name": "stdout",
     "output_type": "stream",
     "text": [
      "All Updated\n"
     ]
    }
   ],
   "source": [
    "# @title Reading the CVs\n",
    "\n",
    "# Check if there is any empty string in the \"CleanedText\" column\n",
    "if (merged_df[\"CleanedText\"].str.strip() == '').any():\n",
    "    # Filter the DataFrame to get only the rows with empty strings in the \"CleanedText\" column\n",
    "    filtered_df = merged_df[merged_df[\"CleanedText\"].str.strip() == '']\n",
    "\n",
    "    # Extract the URLs from the filtered DataFrame\n",
    "    urls = filtered_df[\"CV_Link\"].tolist()\n",
    "\n",
    "    # Use ThreadPoolExecutor to perform parallel processing\n",
    "    with concurrent.futures.ThreadPoolExecutor() as executor:\n",
    "        # Submit tasks for batch processing\n",
    "        future = executor.submit(batch_download_and_extract_text, service_drive, urls)\n",
    "        texts = future.result()\n",
    "\n",
    "    # Assign extracted text to the \"Text\" column in the filtered DataFrame\n",
    "    filtered_df[\"Text\"] = texts\n",
    "\n",
    "    # Update the original DataFrame with the updated values from the filtered DataFrame\n",
    "    merged_df.update(filtered_df)\n",
    "\n",
    "else:\n",
    "    # Print all updated DataFrame\n",
    "    print(\"All Updated\")\n"
   ]
  },
  {
   "cell_type": "markdown",
   "metadata": {
    "id": "C3vxdNvFhGXx"
   },
   "source": [
    "## Applicant Shortlisting Tool\n",
    "\n",
    "#### Instructions:\n",
    "\n",
    "1. Input the necessary information such as <font color=\"orange\"><b>Job Title</b></font>, <font color=\"green\"><b>Job Description</b></font>, <font color=\"red\"><b>Qualifying Keywords</b></font>, and <font color=\"yellow\"><b>Supplementary Keywords</b></font>  in the designated fields below.\n",
    "\n",
    "2. Press **Connect** at the upper right corner. <font color=\"green\"><b>Wait for a green check mark to appear</b></font>.\n",
    "\n",
    "3. Click **Runtime** dropdown and click **Run All** to run the notebook. A prompt will appear but just click \"Run Anyway\". Each run takes about less than 2 minutes.\n",
    "\n",
    "4. You can change your entries in the Job Title, Job Description, etc. fields and run it again by following **Step 3**.\n",
    "\n",
    "4. Scroll down to view the shortlist at the bottom. You can manipulate it to show different Job Positions by clicking on the \"**Select Position**\" dropdown button. Other filters are also available.\n",
    "\n",
    "5. Scroll sideward to reveal more information about the applicants. Can now also be viewed in Fullscreen (See documentation).\n",
    "\n",
    "6. You can also export your chosen shortlist into an Excel file by clicking the \"**Export as Excel File**\" button. It is at the bottom of the shortlist.\n",
    "\n",
    "7. Click the little Folder icon on the left side to open up the window pane. Download the file by right clicking and choosing download.\n",
    "\n",
    "9. If an error pops-up. Refresh the page itself. Refreshing the page would need you to enter the necessary fields again.\n",
    "\n",
    "10. For persistent errors, contact the notebook owner."
   ]
  },
  {
   "cell_type": "code",
   "execution_count": 12,
   "metadata": {
    "cellView": "form",
    "executionInfo": {
     "elapsed": 14,
     "status": "ok",
     "timestamp": 1724988143803,
     "user": {
      "displayName": "Alvin Gabriel Valerio",
      "userId": "10386532810859959491"
     },
     "user_tz": -480
    },
    "id": "ExA95eR9G-Y3"
   },
   "outputs": [],
   "source": [
    "#@title <font color='Orange'>Job Title </font>\n",
    "job_post = \"\"# @param {type: \"string\"}"
   ]
  },
  {
   "cell_type": "code",
   "execution_count": 13,
   "metadata": {
    "cellView": "form",
    "executionInfo": {
     "elapsed": 13,
     "status": "ok",
     "timestamp": 1724988143803,
     "user": {
      "displayName": "Alvin Gabriel Valerio",
      "userId": "10386532810859959491"
     },
     "user_tz": -480
    },
    "id": "AiojQmPVEXwK"
   },
   "outputs": [],
   "source": [
    "#@title <font color='Green'>Job Description </font>\n",
    "user_input = \"\"# @param {type: \"string\"}"
   ]
  },
  {
   "cell_type": "code",
   "execution_count": 14,
   "metadata": {
    "cellView": "form",
    "executionInfo": {
     "elapsed": 14,
     "status": "ok",
     "timestamp": 1724988143804,
     "user": {
      "displayName": "Alvin Gabriel Valerio",
      "userId": "10386532810859959491"
     },
     "user_tz": -480
    },
    "id": "84GBm-IUyBf6"
   },
   "outputs": [],
   "source": [
    "#@title  <font color='Red'> Qualifying Keywords</font>\n",
    "Qualifying_keywords = \"\"# @param {type: \"string\"}\n"
   ]
  },
  {
   "cell_type": "code",
   "execution_count": 15,
   "metadata": {
    "cellView": "form",
    "executionInfo": {
     "elapsed": 13,
     "status": "ok",
     "timestamp": 1724988143804,
     "user": {
      "displayName": "Alvin Gabriel Valerio",
      "userId": "10386532810859959491"
     },
     "user_tz": -480
    },
    "id": "K2qAmnLbx96E"
   },
   "outputs": [],
   "source": [
    "#@title <font color='yellow'>  Supplementary Keywords </font>\n",
    "supplementary_keywords = \"\"# @param {type: \"string\"}\n"
   ]
  },
  {
   "cell_type": "markdown",
   "metadata": {
    "id": "NioUnIPmFXSt"
   },
   "source": [
    "## Processing"
   ]
  },
  {
   "cell_type": "code",
   "execution_count": 16,
   "metadata": {
    "cellView": "form",
    "colab": {
     "base_uri": "https://localhost:8080/"
    },
    "executionInfo": {
     "elapsed": 13,
     "status": "ok",
     "timestamp": 1724988143804,
     "user": {
      "displayName": "Alvin Gabriel Valerio",
      "userId": "10386532810859959491"
     },
     "user_tz": -480
    },
    "id": "P7uD7tljE8zP",
    "outputId": "99fcd1cf-f6f8-4145-94c2-61afa363506c"
   },
   "outputs": [
    {
     "name": "stdout",
     "output_type": "stream",
     "text": [
      "All Updated\n"
     ]
    }
   ],
   "source": [
    "#@title Tokenization\n",
    "\n",
    "\n",
    "# Define the list of negative words\n",
    "negative_words = [\"degree\", \"proficiency\", \"exceptional\", \"proven\", \"experience\", \"strong\", \"skills\", \"city\", \"university\",\n",
    "                  \"2023\",\"2024\", \"management\", \"2022\", \"customer\", \"school\", \"philippines\",\n",
    "                  \"ability\", \"interpret\", \"complex\", \"information\", \"excellent\",\n",
    "                  \"work\", \"effectively\", \"proficiency\", \"utilizing\", \"various\",\n",
    "                  \"conduct\", \"in-depth\", \"research\", \"across\", \"diverse\", \"sources\",\n",
    "                  \"gather\", \"relevant\", \"data\", \"evaluate\", \"credibility\", \"relevancy\",\n",
    "                  \"obtained\", \"different\", \"translate\", \"synthesize\", \"comprehensive\",\n",
    "                  \"english\", \"reports\", \"maintaining\", \"accuracy\", \"clarity\",\n",
    "                  \"decision-making\", \"processes\", \"stay\", \"updated\", \"changes\",\n",
    "                  \"global\", \"markets\", \"ensure\", \"accuracy\", \"relevance\", \"reports\",\n",
    "                  \"utilize\", \"enhance\", \"analysis\", \"processes\", \"knowledge\",\n",
    "                  \"familiarity\", \"understands\", \"intricacies\", \"platforms\",\n",
    "                  \"familiarity\", \"identify\", \"filter\", \"irrelevant\", \"posts\",\n",
    "                  \"assess\", \"summarize\", \"comments\", \"made\", \"posts\", \"access\", \"file\", \"invalid\",\n",
    "                  \"group\", \"structure\", \"predefined\", \"criteria\", \"topics\",\n",
    "                  \"good\", \"eg\", \"etc\", \"Main\", \"task\", \"tasks\", 'include', 'required', 'skills', 'other']\n",
    "\n",
    "# Check if there is any empty string in the \"CleanedText\" column\n",
    "if (merged_df[\"CleanedText\"].str.strip() == '').any():\n",
    "    # Filter the DataFrame to get only the rows with empty strings in the \"CleanedText\" column\n",
    "    filtered_df2 = merged_df[merged_df[\"CleanedText\"].str.strip() == '']\n",
    "\n",
    "    # Define function to remove numbers from text\n",
    "    def remove_numbers(text):\n",
    "        if isinstance(text, str):\n",
    "            return re.sub(r'\\d+', '', text)\n",
    "        else:\n",
    "            return str(text)\n",
    "\n",
    "    # Apply text cleaning functions to the 'Text' and 'Specify your skills relevant to the position you are applying for.' columns\n",
    "    filtered_df2['CleanedText'] = filtered_df2['Text'].apply(lambda x: ', '.join([word for word in word_tokenize(x.lower()) if len(word) > 1 and word.isalnum() and word.lower() not in stopwords.words('english')]))\n",
    "    filtered_df2['CleanedSkills'] = filtered_df2['Specify your skills relevant to the position you are applying for.'].apply(lambda x: ', '.join([word for word in word_tokenize(x.lower()) if len(word) > 1 and word.isalnum() and word.lower() not in stopwords.words('english')]))\n",
    "\n",
    "    # Remove negative words from CleanedText\n",
    "    filtered_df2['CleanedText'] = filtered_df2['CleanedText'].apply(lambda x: ' '.join([word for word in word_tokenize(x.lower()) if word.lower() not in negative_words]))\n",
    "\n",
    "    # Combine CleanedText and CleanedSkills, remove duplicates, and join back into a string\n",
    "    filtered_df2['CleanedText'] = (filtered_df2['CleanedText'] + ', ' + filtered_df2['CleanedSkills']).apply(lambda x: ', '.join(set(word_tokenize(x))))\n",
    "\n",
    "    # Update the merged_df with the cleaned data\n",
    "    merged_df.update(filtered_df2)\n",
    "\n",
    "else:\n",
    "    # Print all updated DataFrame\n",
    "    print(\"All Updated\")"
   ]
  },
  {
   "cell_type": "code",
   "execution_count": 17,
   "metadata": {
    "cellView": "form",
    "executionInfo": {
     "elapsed": 10,
     "status": "ok",
     "timestamp": 1724988143804,
     "user": {
      "displayName": "Alvin Gabriel Valerio",
      "userId": "10386532810859959491"
     },
     "user_tz": -480
    },
    "id": "0p2REaowxxKj"
   },
   "outputs": [],
   "source": [
    "#@title Process 1\n",
    "\n",
    "input_tokens = set(word_tokenize(user_input.lower()))\n",
    "\n",
    "pd2 = pd.DataFrame({\"UserInput\": list(input_tokens)})\n",
    "\n",
    "pd2 = pd.merge(pd2, pd.DataFrame({\"NegativeWords\": negative_words}), how=\"left\", left_on=\"UserInput\", right_on=\"NegativeWords\")\n",
    "\n",
    "pd2_cleaned = pd2[pd2['NegativeWords'].isna()].drop(columns=['NegativeWords'])\n",
    "\n",
    "cleaned_list = ', '.join(pd2_cleaned['UserInput'])\n",
    "cleaned_list = re.sub(r'[^a-zA-Z0-9\\s]', '', cleaned_list)\n",
    "cleaned_tokens = word_tokenize(cleaned_list)\n",
    "\n",
    "stop_words = set(stopwords.words('english'))\n",
    "cleaned_tokens = [word for word in cleaned_tokens if word.lower() not in stop_words]\n",
    "\n",
    "df2 = pd.DataFrame({\"CleanedList\": [', '.join(cleaned_tokens)]})"
   ]
  },
  {
   "cell_type": "code",
   "execution_count": 18,
   "metadata": {
    "cellView": "form",
    "executionInfo": {
     "elapsed": 9,
     "status": "ok",
     "timestamp": 1724988143804,
     "user": {
      "displayName": "Alvin Gabriel Valerio",
      "userId": "10386532810859959491"
     },
     "user_tz": -480
    },
    "id": "mbiowtoUffCd"
   },
   "outputs": [],
   "source": [
    "#@title Process 2\n",
    "\n",
    "\n",
    "supplementary_tokens = set(word_tokenize(supplementary_keywords.lower()))\n",
    "\n",
    "df3 = pd.DataFrame({\"SupplementaryKeywords\": list(supplementary_tokens)})\n",
    "\n",
    "df3['SupplementaryKeywords'] = df3['SupplementaryKeywords'].apply(lambda x: re.sub(r'[^a-zA-Z0-9\\s]', '', x))\n",
    "\n",
    "stop_words = set(stopwords.words('english'))\n",
    "df3['SupplementaryKeywords'] = df3['SupplementaryKeywords'].apply(lambda x: ' '.join([word for word in word_tokenize(x) if word.lower() not in stop_words]))\n"
   ]
  },
  {
   "cell_type": "code",
   "execution_count": 19,
   "metadata": {
    "cellView": "form",
    "executionInfo": {
     "elapsed": 9,
     "status": "ok",
     "timestamp": 1724988143804,
     "user": {
      "displayName": "Alvin Gabriel Valerio",
      "userId": "10386532810859959491"
     },
     "user_tz": -480
    },
    "id": "D5F9PPiyTX0K"
   },
   "outputs": [],
   "source": [
    "#@title Process 3\n",
    "\n",
    "Qualifying_tokens = set(word_tokenize(Qualifying_keywords.lower()))\n",
    "\n",
    "\n",
    "df4 = pd.DataFrame({\"QualifyingKeywords\": list(Qualifying_tokens)})\n",
    "\n",
    "df4['QualifyingKeywords'] = df4['QualifyingKeywords'].apply(lambda x: re.sub(r'[^a-zA-Z0-9\\s]', '', x))\n",
    "\n",
    "stop_words = set(stopwords.words('english'))\n",
    "df4['QualifyingKeywords'] = df4['QualifyingKeywords'].apply(lambda x: ' '.join([word for word in word_tokenize(x) if word.lower() not in stop_words]))\n"
   ]
  },
  {
   "cell_type": "code",
   "execution_count": 20,
   "metadata": {
    "cellView": "form",
    "executionInfo": {
     "elapsed": 8,
     "status": "ok",
     "timestamp": 1724988143804,
     "user": {
      "displayName": "Alvin Gabriel Valerio",
      "userId": "10386532810859959491"
     },
     "user_tz": -480
    },
    "id": "BKofFRGPNMgw"
   },
   "outputs": [],
   "source": [
    "#@title Scoring\n",
    "\n",
    "\n",
    "def calculate_score(row):\n",
    "    total_score = 0\n",
    "\n",
    "    cleaned_text_tokens = set(row['CleanedText'].split(', '))\n",
    "\n",
    "    if 'CleanedList' in df2.columns and df2['CleanedList'].dtype == 'object':\n",
    "        total_score += len(set(cleaned_text_tokens) & set(df2['CleanedList'].str.split(', ').explode().unique()))\n",
    "\n",
    "    if 'SupplementaryKeywords' in df3.columns and df3['SupplementaryKeywords'].dtype == 'object':\n",
    "        total_score += len(set(cleaned_text_tokens) & set(df3['SupplementaryKeywords'].str.split(', ').explode().unique()))\n",
    "\n",
    "    if 'QualifyingKeywords' in df4.columns and df4['QualifyingKeywords'].dtype == 'object':\n",
    "        total_score += len(set(cleaned_text_tokens) & set(df4['QualifyingKeywords'].str.split(', ').explode().unique()))\n",
    "\n",
    "    return total_score\n",
    "\n",
    "merged_df['Total Score'] = merged_df.apply(calculate_score, axis=1)"
   ]
  },
  {
   "cell_type": "code",
   "execution_count": 21,
   "metadata": {
    "cellView": "form",
    "executionInfo": {
     "elapsed": 9,
     "status": "ok",
     "timestamp": 1724988143805,
     "user": {
      "displayName": "Alvin Gabriel Valerio",
      "userId": "10386532810859959491"
     },
     "user_tz": -480
    },
    "id": "XF8c80lToDyt"
   },
   "outputs": [],
   "source": [
    "#@title Qualification\n",
    "\n",
    "def determine_qualification(row):\n",
    "    cleaned_text_tokens = set(row['CleanedText'].split(', '))\n",
    "\n",
    "    if 'QualifyingKeywords' in df4.columns and df4['QualifyingKeywords'].dtype == 'object':\n",
    "        qualifying_keywords_tokens = set(df4['QualifyingKeywords'].str.split(', ').explode().unique())\n",
    "\n",
    "        if set(cleaned_text_tokens) & qualifying_keywords_tokens:\n",
    "            return \"Qualified\"\n",
    "        else:\n",
    "            return \"Not Qualified\"\n",
    "    else:\n",
    "        return \"N/A\"\n",
    "\n",
    "merged_df['Qualification'] = merged_df.apply(determine_qualification, axis=1)\n"
   ]
  },
  {
   "cell_type": "code",
   "execution_count": 22,
   "metadata": {
    "cellView": "form",
    "executionInfo": {
     "elapsed": 9,
     "status": "ok",
     "timestamp": 1724988143805,
     "user": {
      "displayName": "Alvin Gabriel Valerio",
      "userId": "10386532810859959491"
     },
     "user_tz": -480
    },
    "id": "4rTwGFKKqMJg"
   },
   "outputs": [],
   "source": [
    "#@title Computation\n",
    "\n",
    "qualified_df = merged_df[merged_df['Qualification'] == 'Qualified']\n",
    "\n",
    "qualified_df = qualified_df.sort_values(by='Total Score', ascending=False)\n",
    "\n",
    "not_qualified_df = merged_df[merged_df['Qualification'].isin(['N/A', 'Not Qualified'])]\n",
    "\n",
    "not_qualified_df = not_qualified_df.sort_values(by='Total Score', ascending=False)"
   ]
  },
  {
   "cell_type": "code",
   "execution_count": 23,
   "metadata": {
    "cellView": "form",
    "colab": {
     "base_uri": "https://localhost:8080/"
    },
    "executionInfo": {
     "elapsed": 1879,
     "status": "ok",
     "timestamp": 1724988145676,
     "user": {
      "displayName": "Alvin Gabriel Valerio",
      "userId": "10386532810859959491"
     },
     "user_tz": -480
    },
    "id": "Av_CpeSckfUj",
    "outputId": "10daa0d1-d4e7-4f94-e99f-147a571d62a7"
   },
   "outputs": [
    {
     "name": "stderr",
     "output_type": "stream",
     "text": [
      "<ipython-input-23-5af4d3cc4d3e>:22: DeprecationWarning: The order of arguments in worksheet.update() has changed. Please pass values first and range_name secondor used named arguments (range_name=, values=)\n",
      "  worksheet3.update('A1', values_with_headers)\n"
     ]
    },
    {
     "data": {
      "text/plain": [
       "{'spreadsheetId': '1PS782vFp9eXtSKkkknre4-XzM0_XJoWXER7zPwaxNNw',\n",
       " 'updatedRange': 'Sheet1!A1:Z445',\n",
       " 'updatedRows': 445,\n",
       " 'updatedColumns': 26,\n",
       " 'updatedCells': 11570}"
      ]
     },
     "execution_count": 23,
     "metadata": {},
     "output_type": "execute_result"
    }
   ],
   "source": [
    "# @title Saving\n",
    "\n",
    "# Drop columns with empty names\n",
    "merged_df = merged_df.drop(columns=['' for col in merged_df.columns if col == ''])\n",
    "\n",
    "# Open the existing Google Sheet named \"screening_repo\"\n",
    "sheet3 = client_sheets.open('screening_repo')\n",
    "\n",
    "# Select the first (default) worksheet\n",
    "worksheet3 = sheet3.get_worksheet(0)\n",
    "\n",
    "# Clear the contents of the worksheet\n",
    "worksheet3.clear()\n",
    "\n",
    "# Get the column headers\n",
    "headers = merged_df.columns.tolist()\n",
    "\n",
    "# Convert DataFrame to a list of lists, including headers\n",
    "values_with_headers = [headers] + merged_df.fillna('').values.tolist()\n",
    "\n",
    "# Update the values in the worksheet\n",
    "worksheet3.update('A1', values_with_headers)"
   ]
  },
  {
   "cell_type": "markdown",
   "metadata": {
    "id": "7NFZ3Bn4Nm4I"
   },
   "source": [
    "## Shortlist"
   ]
  },
  {
   "cell_type": "code",
   "execution_count": 24,
   "metadata": {
    "cellView": "form",
    "colab": {
     "base_uri": "https://localhost:8080/",
     "height": 333,
     "referenced_widgets": [
      "8b1858f05d7c421e83472665d103c567",
      "4dd614fa336c4d71b43289103d5f914a",
      "b4ec8c9e8c0d4e7bb446ba3ee64391b8",
      "6e3a211484bb4bc79a91751bfb1ae2db",
      "d98d7c63d7974ab7a89d1f365dc4edc8",
      "e9ff8345ee5d43469a80b37907c41953",
      "d21b2a7f571d42aabdaa18fb2ae67507",
      "d57d53b0cff54f7dab63e8f3bf878eb6",
      "84e98c10992a40b6acae217e8190907d",
      "944b6158db31417aaa95e9ccaf908f06",
      "442e666303cb42e588874181e60d60fc",
      "9d03d165886f4411874f862708144626",
      "e06f1c2c8b1140f188d3780903b3dedd",
      "1ef29c6dbb4f4c4b8dbed3dae6cd9076",
      "c5b5c9f5621f4c1dbda93ef5e708b16a",
      "5c91217a5aa64f039eeb42d76f26e64e",
      "4cec18973b304f7e93cd40225963bc2d",
      "d57ab207ade2439c9b44a4382240bcba",
      "a53bedb33ee947fabaa2abef4412a721",
      "bb337584e35a462493a4df477161b937",
      "51992976489a4d0791c37fb83eb86e2f",
      "a37f7900e7ed4c75acde4c9be1f8e5ff"
     ]
    },
    "collapsed": true,
    "executionInfo": {
     "elapsed": 27,
     "status": "ok",
     "timestamp": 1724988145677,
     "user": {
      "displayName": "Alvin Gabriel Valerio",
      "userId": "10386532810859959491"
     },
     "user_tz": -480
    },
    "id": "wLA7IprOPEqK",
    "outputId": "246518a8-5d62-4ef0-8724-a8e816c30ab0"
   },
   "outputs": [
    {
     "data": {
      "application/vnd.jupyter.widget-view+json": {
       "model_id": "8b1858f05d7c421e83472665d103c567",
       "version_major": 2,
       "version_minor": 0
      },
      "text/plain": [
       "interactive(children=(Dropdown(description='Select Position:', options=('Research Analyst/Writer (Part-time)',…"
      ]
     },
     "metadata": {},
     "output_type": "display_data"
    },
    {
     "data": {
      "text/html": [
       "<div style=\"max-width:800px; border: 1px solid var(--colab-border-color);\"><style>\n",
       "      pre.function-repr-contents {\n",
       "        overflow-x: auto;\n",
       "        padding: 8px 12px;\n",
       "        max-height: 500px;\n",
       "      }\n",
       "\n",
       "      pre.function-repr-contents.function-repr-contents-collapsed {\n",
       "        cursor: pointer;\n",
       "        max-height: 100px;\n",
       "      }\n",
       "    </style>\n",
       "    <pre style=\"white-space: initial; background:\n",
       "         var(--colab-secondary-surface-color); padding: 8px 12px;\n",
       "         border-bottom: 1px solid var(--colab-border-color);\"><b>display_dataframe</b><br/>def display_dataframe(position, employment_status, training, year, month, score_filter)</pre><pre class=\"function-repr-contents function-repr-contents-collapsed\" style=\"\"><a class=\"filepath\" style=\"display:none\" href=\"#\">/content/&lt;ipython-input-24-e6b7cb61e51c&gt;</a>&lt;no docstring&gt;</pre></div>"
      ],
      "text/plain": [
       "<function __main__.display_dataframe(position, employment_status, training, year, month, score_filter)>"
      ]
     },
     "execution_count": 24,
     "metadata": {},
     "output_type": "execute_result"
    }
   ],
   "source": [
    "#@title Filtered Applicants\n",
    "\n",
    "# Convert \"Timestamp\" column to datetime\n",
    "merged_df['Timestamp'] = pd.to_datetime(merged_df['Timestamp'], format='%d/%m/%Y %H:%M:%S')\n",
    "\n",
    "# Format months in \"Timestamp\" column as month names\n",
    "merged_df['Month'] = merged_df['Timestamp'].dt.strftime('%B')  # '%B' gives full month name\n",
    "\n",
    "# Columns to hide from the output\n",
    "columns_to_hide = [\"Text\", \"CleanedText\", \"Specify your skills relevant to the position you are applying for.\"]\n",
    "\n",
    "# Default values for dropdowns\n",
    "def set_default_values():\n",
    "    default_employment_status = \"None\"\n",
    "    default_training = \"Yes\"\n",
    "    default_year = merged_df['Timestamp'].dt.year.max()\n",
    "\n",
    "    employment_status_dropdown.value = default_employment_status\n",
    "    training_dropdown.value = default_training\n",
    "    year_dropdown.value = default_year\n",
    "\n",
    "# Create dropdown widgets for unique positions\n",
    "unique_positions = merged_df[\"Position\"].unique()\n",
    "position_dropdown = widgets.Dropdown(options=unique_positions, description='Select Position:')\n",
    "\n",
    "# Custom display function to format the DataFrame output\n",
    "def update_dropdowns(*args):\n",
    "    try:\n",
    "        filtered_df = merged_df[merged_df[\"Position\"] == position_dropdown.value]\n",
    "        unique_statuses = filtered_df[\"Employment_Status\"].unique()\n",
    "        unique_trainings = filtered_df[\"Training_MF_5AM\"].unique()\n",
    "        unique_years = filtered_df['Timestamp'].dt.year.unique()\n",
    "        unique_months = filtered_df['Month'].unique()\n",
    "\n",
    "        employment_status_dropdown.options = unique_statuses\n",
    "        training_dropdown.options = unique_trainings\n",
    "        year_dropdown.options = unique_years\n",
    "        month_dropdown.options = unique_months\n",
    "\n",
    "        set_default_values()\n",
    "    except Exception as e:\n",
    "        pass  # Suppress any errors\n",
    "\n",
    "# Link dropdown widgets to update function\n",
    "position_dropdown.observe(update_dropdowns, 'value')\n",
    "\n",
    "# Create dropdown widgets for dependent options\n",
    "employment_status_dropdown = widgets.Dropdown(description='Employment Status:')\n",
    "training_dropdown = widgets.Dropdown(description='Training MF 5AM:')\n",
    "year_dropdown = widgets.Dropdown(description='Select Year:')\n",
    "month_dropdown = widgets.Dropdown(description='Select Month:')\n",
    "\n",
    "# Dropdown for Total Score filter\n",
    "score_filter_dropdown = widgets.Dropdown(options=[\"Above or Equal to 10\", \"Below 10\"], description='Total Score Filter:')\n",
    "\n",
    "# Call update function initially to set initial options\n",
    "update_dropdowns()\n",
    "\n",
    "# Specify columns to hide from the output\n",
    "columns_to_hide = [\"Text\", \"CleanedText\", \"Specify your skills relevant to the position you are applying for.\"]\n",
    "\n",
    "# Custom display function to format the DataFrame output\n",
    "def display_dataframe(position, employment_status, training, year, month, score_filter):\n",
    "    try:\n",
    "        filtered_df = merged_df[(merged_df[\"Position\"] == position) &\n",
    "                                (merged_df[\"Employment_Status\"] == employment_status) &\n",
    "                                (merged_df[\"Training_MF_5AM\"] == training) &\n",
    "                                (merged_df['Timestamp'].dt.year == year) &\n",
    "                                (merged_df['Month'] == month)]\n",
    "\n",
    "        if score_filter == \"Above or Equal to 10\":\n",
    "            filtered_df = filtered_df[filtered_df['Total Score'] >= 10]\n",
    "        elif score_filter == \"Below 10\":\n",
    "            filtered_df = filtered_df[filtered_df['Total Score'] < 10]\n",
    "\n",
    "        if filtered_df.empty:\n",
    "            display(HTML(\"<p style='font-size:20px; font-weight:bold;'>No applicants meet the criteria.</p>\"))\n",
    "            return\n",
    "\n",
    "        sorted_df = filtered_df.sort_values(by=\"Total Score\", ascending=False)\n",
    "        total_score = sorted_df.pop(\"Total Score\")\n",
    "        qualification = sorted_df.pop(\"Qualification\")\n",
    "\n",
    "        display_df = sorted_df.drop(columns_to_hide, axis=1)\n",
    "        display_df.insert(0, \"Total Score\", total_score)\n",
    "        display_df.insert(1, \"Qualification\", qualification)\n",
    "\n",
    "        display_df = display_df.reindex(columns=[\"Position\",\n",
    "                                                 \"Name\",\n",
    "                                                 \"Qualification\",\n",
    "                                                 \"Total Score\",\n",
    "                                                 \"Employment_Status\",\n",
    "                                                 \"Training_MF_5AM\",\n",
    "                                                 \"CV_Link\",\n",
    "                                                 \"Address\",\n",
    "                                                 \"Contact_No\",\n",
    "                                                 \"Email\",\n",
    "                                                 \"Device\",\n",
    "                                                 \"ISP\",\n",
    "                                                 \"Birth Date\",\n",
    "                                                 \"Timestamp\"])\n",
    "\n",
    "        top10 = display_df.head(10)\n",
    "\n",
    "        html_output = top10.to_html(index=False)\n",
    "        styled_html_output = f'<div style=\"overflow-x:auto;\"><style>.dataframe tr {{ height: 25px; }}</style>{html_output}</div>'\n",
    "        display(HTML(styled_html_output))\n",
    "\n",
    "        export_button = widgets.Button(description=\"Export as Excel File\")\n",
    "        display(export_button)\n",
    "\n",
    "        def export_as_excel_file(_):\n",
    "            ph_time = timezone(timedelta(hours=8))\n",
    "            current_datetime = datetime.now(ph_time).strftime(\"%Y-%m-%d_%H-%M-%S\")\n",
    "\n",
    "            directory = \"/content/\"\n",
    "            filename = f\"{position.replace('/', '_')}_{employment_status}_{training}_{current_datetime}.xlsx\"\n",
    "            filepath = os.path.join(directory, filename)\n",
    "\n",
    "            top10.to_excel(filepath, index=False)\n",
    "\n",
    "        export_button.on_click(export_as_excel_file)\n",
    "    except Exception as e:\n",
    "        pass  # Suppress any errors\n",
    "\n",
    "# Link dropdown widgets to the display_dataframe function\n",
    "widgets.interact(display_dataframe, position=position_dropdown, employment_status=employment_status_dropdown,\n",
    "                 training=training_dropdown, year=year_dropdown, month=month_dropdown, score_filter=score_filter_dropdown)"
   ]
  }
 ],
 "metadata": {
  "colab": {
   "collapsed_sections": [
    "F3e11Q_VGqcc",
    "NioUnIPmFXSt"
   ],
   "provenance": [
    {
     "file_id": "1u8l_Tn2lu7p44ZWF-oBQYFgFzw9VBI4i",
     "timestamp": 1715654796339
    },
    {
     "file_id": "1slf_i2kOxEx2tB0cSrzSyA3jfSXpSiKi",
     "timestamp": 1714486276068
    },
    {
     "file_id": "1ha7JEEHkMGLCPGuW_lrvHeZFU-zFFfP9",
     "timestamp": 1713779004628
    }
   ]
  },
  "kernelspec": {
   "display_name": "Python 3 (ipykernel)",
   "language": "python",
   "name": "python3"
  },
  "language_info": {
   "codemirror_mode": {
    "name": "ipython",
    "version": 3
   },
   "file_extension": ".py",
   "mimetype": "text/x-python",
   "name": "python",
   "nbconvert_exporter": "python",
   "pygments_lexer": "ipython3",
   "version": "3.9.13"
  },
  "widgets": {
   "application/vnd.jupyter.widget-state+json": {
    "1ef29c6dbb4f4c4b8dbed3dae6cd9076": {
     "model_module": "@jupyter-widgets/base",
     "model_module_version": "1.2.0",
     "model_name": "LayoutModel",
     "state": {
      "_model_module": "@jupyter-widgets/base",
      "_model_module_version": "1.2.0",
      "_model_name": "LayoutModel",
      "_view_count": null,
      "_view_module": "@jupyter-widgets/base",
      "_view_module_version": "1.2.0",
      "_view_name": "LayoutView",
      "align_content": null,
      "align_items": null,
      "align_self": null,
      "border": null,
      "bottom": null,
      "display": null,
      "flex": null,
      "flex_flow": null,
      "grid_area": null,
      "grid_auto_columns": null,
      "grid_auto_flow": null,
      "grid_auto_rows": null,
      "grid_column": null,
      "grid_gap": null,
      "grid_row": null,
      "grid_template_areas": null,
      "grid_template_columns": null,
      "grid_template_rows": null,
      "height": null,
      "justify_content": null,
      "justify_items": null,
      "left": null,
      "margin": null,
      "max_height": null,
      "max_width": null,
      "min_height": null,
      "min_width": null,
      "object_fit": null,
      "object_position": null,
      "order": null,
      "overflow": null,
      "overflow_x": null,
      "overflow_y": null,
      "padding": null,
      "right": null,
      "top": null,
      "visibility": null,
      "width": null
     }
    },
    "442e666303cb42e588874181e60d60fc": {
     "model_module": "@jupyter-widgets/controls",
     "model_module_version": "1.5.0",
     "model_name": "DescriptionStyleModel",
     "state": {
      "_model_module": "@jupyter-widgets/controls",
      "_model_module_version": "1.5.0",
      "_model_name": "DescriptionStyleModel",
      "_view_count": null,
      "_view_module": "@jupyter-widgets/base",
      "_view_module_version": "1.2.0",
      "_view_name": "StyleView",
      "description_width": ""
     }
    },
    "4cec18973b304f7e93cd40225963bc2d": {
     "model_module": "@jupyter-widgets/controls",
     "model_module_version": "1.5.0",
     "model_name": "DescriptionStyleModel",
     "state": {
      "_model_module": "@jupyter-widgets/controls",
      "_model_module_version": "1.5.0",
      "_model_name": "DescriptionStyleModel",
      "_view_count": null,
      "_view_module": "@jupyter-widgets/base",
      "_view_module_version": "1.2.0",
      "_view_name": "StyleView",
      "description_width": ""
     }
    },
    "4dd614fa336c4d71b43289103d5f914a": {
     "model_module": "@jupyter-widgets/controls",
     "model_module_version": "1.5.0",
     "model_name": "DropdownModel",
     "state": {
      "_dom_classes": [],
      "_model_module": "@jupyter-widgets/controls",
      "_model_module_version": "1.5.0",
      "_model_name": "DropdownModel",
      "_options_labels": [
       "Research Analyst/Writer (Part-time)",
       "Social Analyst/Writer",
       "Social Media Analyst/Writer (Full time)",
       "Social Media Analyst/Writer (Full time- Graveyard shift)",
       "Social Media Analyst/Writer (12mn- 9am)",
       "Weekend Research Analyst (Part-time)",
       "Social Insights Analyst/Writer (9am-6pm)",
       "Weekday Research Analyst/Writer (5am - 9am)",
       "Weekend Research Analyst (5am -9am or 8am-12nn)",
       "Part-time -Weekday Research Analyst/Writer (5am - 9am)",
       "Part-time-Weekend Research Analyst (5am -9am or 8am-12nn)",
       "Data Analyst (5am-12pm)",
       "Document Support Associate ( 6am- 10am)",
       "Weekend Media Analyst (5am -9am or 8am-12nn)",
       "Media Analyst (12mn-9am)",
       "Insights Analyst (9am-6pm)",
       "Weekday Media Analyst(5am - 9am)",
       "Weekday Research Analyst(5am - 9am)",
       "Social Analyst Full-time (12mn-9am)"
      ],
      "_view_count": null,
      "_view_module": "@jupyter-widgets/controls",
      "_view_module_version": "1.5.0",
      "_view_name": "DropdownView",
      "description": "Select Position:",
      "description_tooltip": null,
      "disabled": false,
      "index": 18,
      "layout": "IPY_MODEL_944b6158db31417aaa95e9ccaf908f06",
      "style": "IPY_MODEL_442e666303cb42e588874181e60d60fc"
     }
    },
    "51992976489a4d0791c37fb83eb86e2f": {
     "model_module": "@jupyter-widgets/controls",
     "model_module_version": "1.5.0",
     "model_name": "DescriptionStyleModel",
     "state": {
      "_model_module": "@jupyter-widgets/controls",
      "_model_module_version": "1.5.0",
      "_model_name": "DescriptionStyleModel",
      "_view_count": null,
      "_view_module": "@jupyter-widgets/base",
      "_view_module_version": "1.2.0",
      "_view_name": "StyleView",
      "description_width": ""
     }
    },
    "5c91217a5aa64f039eeb42d76f26e64e": {
     "model_module": "@jupyter-widgets/base",
     "model_module_version": "1.2.0",
     "model_name": "LayoutModel",
     "state": {
      "_model_module": "@jupyter-widgets/base",
      "_model_module_version": "1.2.0",
      "_model_name": "LayoutModel",
      "_view_count": null,
      "_view_module": "@jupyter-widgets/base",
      "_view_module_version": "1.2.0",
      "_view_name": "LayoutView",
      "align_content": null,
      "align_items": null,
      "align_self": null,
      "border": null,
      "bottom": null,
      "display": null,
      "flex": null,
      "flex_flow": null,
      "grid_area": null,
      "grid_auto_columns": null,
      "grid_auto_flow": null,
      "grid_auto_rows": null,
      "grid_column": null,
      "grid_gap": null,
      "grid_row": null,
      "grid_template_areas": null,
      "grid_template_columns": null,
      "grid_template_rows": null,
      "height": null,
      "justify_content": null,
      "justify_items": null,
      "left": null,
      "margin": null,
      "max_height": null,
      "max_width": null,
      "min_height": null,
      "min_width": null,
      "object_fit": null,
      "object_position": null,
      "order": null,
      "overflow": null,
      "overflow_x": null,
      "overflow_y": null,
      "padding": null,
      "right": null,
      "top": null,
      "visibility": null,
      "width": null
     }
    },
    "6e3a211484bb4bc79a91751bfb1ae2db": {
     "model_module": "@jupyter-widgets/controls",
     "model_module_version": "1.5.0",
     "model_name": "DropdownModel",
     "state": {
      "_dom_classes": [],
      "_model_module": "@jupyter-widgets/controls",
      "_model_module_version": "1.5.0",
      "_model_name": "DropdownModel",
      "_options_labels": [
       "Yes"
      ],
      "_view_count": null,
      "_view_module": "@jupyter-widgets/controls",
      "_view_module_version": "1.5.0",
      "_view_name": "DropdownView",
      "description": "Training MF 5AM:",
      "description_tooltip": null,
      "disabled": false,
      "index": 0,
      "layout": "IPY_MODEL_1ef29c6dbb4f4c4b8dbed3dae6cd9076",
      "style": "IPY_MODEL_c5b5c9f5621f4c1dbda93ef5e708b16a"
     }
    },
    "84e98c10992a40b6acae217e8190907d": {
     "model_module": "@jupyter-widgets/base",
     "model_module_version": "1.2.0",
     "model_name": "LayoutModel",
     "state": {
      "_model_module": "@jupyter-widgets/base",
      "_model_module_version": "1.2.0",
      "_model_name": "LayoutModel",
      "_view_count": null,
      "_view_module": "@jupyter-widgets/base",
      "_view_module_version": "1.2.0",
      "_view_name": "LayoutView",
      "align_content": null,
      "align_items": null,
      "align_self": null,
      "border": null,
      "bottom": null,
      "display": null,
      "flex": null,
      "flex_flow": null,
      "grid_area": null,
      "grid_auto_columns": null,
      "grid_auto_flow": null,
      "grid_auto_rows": null,
      "grid_column": null,
      "grid_gap": null,
      "grid_row": null,
      "grid_template_areas": null,
      "grid_template_columns": null,
      "grid_template_rows": null,
      "height": null,
      "justify_content": null,
      "justify_items": null,
      "left": null,
      "margin": null,
      "max_height": null,
      "max_width": null,
      "min_height": null,
      "min_width": null,
      "object_fit": null,
      "object_position": null,
      "order": null,
      "overflow": null,
      "overflow_x": null,
      "overflow_y": null,
      "padding": null,
      "right": null,
      "top": null,
      "visibility": null,
      "width": null
     }
    },
    "8b1858f05d7c421e83472665d103c567": {
     "model_module": "@jupyter-widgets/controls",
     "model_module_version": "1.5.0",
     "model_name": "VBoxModel",
     "state": {
      "_dom_classes": [
       "widget-interact"
      ],
      "_model_module": "@jupyter-widgets/controls",
      "_model_module_version": "1.5.0",
      "_model_name": "VBoxModel",
      "_view_count": null,
      "_view_module": "@jupyter-widgets/controls",
      "_view_module_version": "1.5.0",
      "_view_name": "VBoxView",
      "box_style": "",
      "children": [
       "IPY_MODEL_4dd614fa336c4d71b43289103d5f914a",
       "IPY_MODEL_b4ec8c9e8c0d4e7bb446ba3ee64391b8",
       "IPY_MODEL_6e3a211484bb4bc79a91751bfb1ae2db",
       "IPY_MODEL_d98d7c63d7974ab7a89d1f365dc4edc8",
       "IPY_MODEL_e9ff8345ee5d43469a80b37907c41953",
       "IPY_MODEL_d21b2a7f571d42aabdaa18fb2ae67507",
       "IPY_MODEL_d57d53b0cff54f7dab63e8f3bf878eb6"
      ],
      "layout": "IPY_MODEL_84e98c10992a40b6acae217e8190907d"
     }
    },
    "944b6158db31417aaa95e9ccaf908f06": {
     "model_module": "@jupyter-widgets/base",
     "model_module_version": "1.2.0",
     "model_name": "LayoutModel",
     "state": {
      "_model_module": "@jupyter-widgets/base",
      "_model_module_version": "1.2.0",
      "_model_name": "LayoutModel",
      "_view_count": null,
      "_view_module": "@jupyter-widgets/base",
      "_view_module_version": "1.2.0",
      "_view_name": "LayoutView",
      "align_content": null,
      "align_items": null,
      "align_self": null,
      "border": null,
      "bottom": null,
      "display": null,
      "flex": null,
      "flex_flow": null,
      "grid_area": null,
      "grid_auto_columns": null,
      "grid_auto_flow": null,
      "grid_auto_rows": null,
      "grid_column": null,
      "grid_gap": null,
      "grid_row": null,
      "grid_template_areas": null,
      "grid_template_columns": null,
      "grid_template_rows": null,
      "height": null,
      "justify_content": null,
      "justify_items": null,
      "left": null,
      "margin": null,
      "max_height": null,
      "max_width": null,
      "min_height": null,
      "min_width": null,
      "object_fit": null,
      "object_position": null,
      "order": null,
      "overflow": null,
      "overflow_x": null,
      "overflow_y": null,
      "padding": null,
      "right": null,
      "top": null,
      "visibility": null,
      "width": null
     }
    },
    "9d03d165886f4411874f862708144626": {
     "model_module": "@jupyter-widgets/base",
     "model_module_version": "1.2.0",
     "model_name": "LayoutModel",
     "state": {
      "_model_module": "@jupyter-widgets/base",
      "_model_module_version": "1.2.0",
      "_model_name": "LayoutModel",
      "_view_count": null,
      "_view_module": "@jupyter-widgets/base",
      "_view_module_version": "1.2.0",
      "_view_name": "LayoutView",
      "align_content": null,
      "align_items": null,
      "align_self": null,
      "border": null,
      "bottom": null,
      "display": null,
      "flex": null,
      "flex_flow": null,
      "grid_area": null,
      "grid_auto_columns": null,
      "grid_auto_flow": null,
      "grid_auto_rows": null,
      "grid_column": null,
      "grid_gap": null,
      "grid_row": null,
      "grid_template_areas": null,
      "grid_template_columns": null,
      "grid_template_rows": null,
      "height": null,
      "justify_content": null,
      "justify_items": null,
      "left": null,
      "margin": null,
      "max_height": null,
      "max_width": null,
      "min_height": null,
      "min_width": null,
      "object_fit": null,
      "object_position": null,
      "order": null,
      "overflow": null,
      "overflow_x": null,
      "overflow_y": null,
      "padding": null,
      "right": null,
      "top": null,
      "visibility": null,
      "width": null
     }
    },
    "a37f7900e7ed4c75acde4c9be1f8e5ff": {
     "model_module": "@jupyter-widgets/base",
     "model_module_version": "1.2.0",
     "model_name": "LayoutModel",
     "state": {
      "_model_module": "@jupyter-widgets/base",
      "_model_module_version": "1.2.0",
      "_model_name": "LayoutModel",
      "_view_count": null,
      "_view_module": "@jupyter-widgets/base",
      "_view_module_version": "1.2.0",
      "_view_name": "LayoutView",
      "align_content": null,
      "align_items": null,
      "align_self": null,
      "border": null,
      "bottom": null,
      "display": null,
      "flex": null,
      "flex_flow": null,
      "grid_area": null,
      "grid_auto_columns": null,
      "grid_auto_flow": null,
      "grid_auto_rows": null,
      "grid_column": null,
      "grid_gap": null,
      "grid_row": null,
      "grid_template_areas": null,
      "grid_template_columns": null,
      "grid_template_rows": null,
      "height": null,
      "justify_content": null,
      "justify_items": null,
      "left": null,
      "margin": null,
      "max_height": null,
      "max_width": null,
      "min_height": null,
      "min_width": null,
      "object_fit": null,
      "object_position": null,
      "order": null,
      "overflow": null,
      "overflow_x": null,
      "overflow_y": null,
      "padding": null,
      "right": null,
      "top": null,
      "visibility": null,
      "width": null
     }
    },
    "a53bedb33ee947fabaa2abef4412a721": {
     "model_module": "@jupyter-widgets/controls",
     "model_module_version": "1.5.0",
     "model_name": "DescriptionStyleModel",
     "state": {
      "_model_module": "@jupyter-widgets/controls",
      "_model_module_version": "1.5.0",
      "_model_name": "DescriptionStyleModel",
      "_view_count": null,
      "_view_module": "@jupyter-widgets/base",
      "_view_module_version": "1.2.0",
      "_view_name": "StyleView",
      "description_width": ""
     }
    },
    "b4ec8c9e8c0d4e7bb446ba3ee64391b8": {
     "model_module": "@jupyter-widgets/controls",
     "model_module_version": "1.5.0",
     "model_name": "DropdownModel",
     "state": {
      "_dom_classes": [],
      "_model_module": "@jupyter-widgets/controls",
      "_model_module_version": "1.5.0",
      "_model_name": "DropdownModel",
      "_options_labels": [
       "None",
       "With Full-Time"
      ],
      "_view_count": null,
      "_view_module": "@jupyter-widgets/controls",
      "_view_module_version": "1.5.0",
      "_view_name": "DropdownView",
      "description": "Employment Status:",
      "description_tooltip": null,
      "disabled": false,
      "index": 1,
      "layout": "IPY_MODEL_9d03d165886f4411874f862708144626",
      "style": "IPY_MODEL_e06f1c2c8b1140f188d3780903b3dedd"
     }
    },
    "bb337584e35a462493a4df477161b937": {
     "model_module": "@jupyter-widgets/base",
     "model_module_version": "1.2.0",
     "model_name": "LayoutModel",
     "state": {
      "_model_module": "@jupyter-widgets/base",
      "_model_module_version": "1.2.0",
      "_model_name": "LayoutModel",
      "_view_count": null,
      "_view_module": "@jupyter-widgets/base",
      "_view_module_version": "1.2.0",
      "_view_name": "LayoutView",
      "align_content": null,
      "align_items": null,
      "align_self": null,
      "border": null,
      "bottom": null,
      "display": null,
      "flex": null,
      "flex_flow": null,
      "grid_area": null,
      "grid_auto_columns": null,
      "grid_auto_flow": null,
      "grid_auto_rows": null,
      "grid_column": null,
      "grid_gap": null,
      "grid_row": null,
      "grid_template_areas": null,
      "grid_template_columns": null,
      "grid_template_rows": null,
      "height": null,
      "justify_content": null,
      "justify_items": null,
      "left": null,
      "margin": null,
      "max_height": null,
      "max_width": null,
      "min_height": null,
      "min_width": null,
      "object_fit": null,
      "object_position": null,
      "order": null,
      "overflow": null,
      "overflow_x": null,
      "overflow_y": null,
      "padding": null,
      "right": null,
      "top": null,
      "visibility": null,
      "width": null
     }
    },
    "c5b5c9f5621f4c1dbda93ef5e708b16a": {
     "model_module": "@jupyter-widgets/controls",
     "model_module_version": "1.5.0",
     "model_name": "DescriptionStyleModel",
     "state": {
      "_model_module": "@jupyter-widgets/controls",
      "_model_module_version": "1.5.0",
      "_model_name": "DescriptionStyleModel",
      "_view_count": null,
      "_view_module": "@jupyter-widgets/base",
      "_view_module_version": "1.2.0",
      "_view_name": "StyleView",
      "description_width": ""
     }
    },
    "d21b2a7f571d42aabdaa18fb2ae67507": {
     "model_module": "@jupyter-widgets/controls",
     "model_module_version": "1.5.0",
     "model_name": "DropdownModel",
     "state": {
      "_dom_classes": [],
      "_model_module": "@jupyter-widgets/controls",
      "_model_module_version": "1.5.0",
      "_model_name": "DropdownModel",
      "_options_labels": [
       "Above or Equal to 10",
       "Below 10"
      ],
      "_view_count": null,
      "_view_module": "@jupyter-widgets/controls",
      "_view_module_version": "1.5.0",
      "_view_name": "DropdownView",
      "description": "Total Score Filter:",
      "description_tooltip": null,
      "disabled": false,
      "index": 0,
      "layout": "IPY_MODEL_bb337584e35a462493a4df477161b937",
      "style": "IPY_MODEL_51992976489a4d0791c37fb83eb86e2f"
     }
    },
    "d57ab207ade2439c9b44a4382240bcba": {
     "model_module": "@jupyter-widgets/base",
     "model_module_version": "1.2.0",
     "model_name": "LayoutModel",
     "state": {
      "_model_module": "@jupyter-widgets/base",
      "_model_module_version": "1.2.0",
      "_model_name": "LayoutModel",
      "_view_count": null,
      "_view_module": "@jupyter-widgets/base",
      "_view_module_version": "1.2.0",
      "_view_name": "LayoutView",
      "align_content": null,
      "align_items": null,
      "align_self": null,
      "border": null,
      "bottom": null,
      "display": null,
      "flex": null,
      "flex_flow": null,
      "grid_area": null,
      "grid_auto_columns": null,
      "grid_auto_flow": null,
      "grid_auto_rows": null,
      "grid_column": null,
      "grid_gap": null,
      "grid_row": null,
      "grid_template_areas": null,
      "grid_template_columns": null,
      "grid_template_rows": null,
      "height": null,
      "justify_content": null,
      "justify_items": null,
      "left": null,
      "margin": null,
      "max_height": null,
      "max_width": null,
      "min_height": null,
      "min_width": null,
      "object_fit": null,
      "object_position": null,
      "order": null,
      "overflow": null,
      "overflow_x": null,
      "overflow_y": null,
      "padding": null,
      "right": null,
      "top": null,
      "visibility": null,
      "width": null
     }
    },
    "d57d53b0cff54f7dab63e8f3bf878eb6": {
     "model_module": "@jupyter-widgets/output",
     "model_module_version": "1.0.0",
     "model_name": "OutputModel",
     "state": {
      "_dom_classes": [],
      "_model_module": "@jupyter-widgets/output",
      "_model_module_version": "1.0.0",
      "_model_name": "OutputModel",
      "_view_count": null,
      "_view_module": "@jupyter-widgets/output",
      "_view_module_version": "1.0.0",
      "_view_name": "OutputView",
      "layout": "IPY_MODEL_a37f7900e7ed4c75acde4c9be1f8e5ff",
      "msg_id": "",
      "outputs": [
       {
        "data": {
         "text/html": "<p style='font-size:20px; font-weight:bold;'>No applicants meet the criteria.</p>",
         "text/plain": "<IPython.core.display.HTML object>"
        },
        "metadata": {},
        "output_type": "display_data"
       }
      ]
     }
    },
    "d98d7c63d7974ab7a89d1f365dc4edc8": {
     "model_module": "@jupyter-widgets/controls",
     "model_module_version": "1.5.0",
     "model_name": "DropdownModel",
     "state": {
      "_dom_classes": [],
      "_model_module": "@jupyter-widgets/controls",
      "_model_module_version": "1.5.0",
      "_model_name": "DropdownModel",
      "_options_labels": [
       "2024"
      ],
      "_view_count": null,
      "_view_module": "@jupyter-widgets/controls",
      "_view_module_version": "1.5.0",
      "_view_name": "DropdownView",
      "description": "Select Year:",
      "description_tooltip": null,
      "disabled": false,
      "index": 0,
      "layout": "IPY_MODEL_5c91217a5aa64f039eeb42d76f26e64e",
      "style": "IPY_MODEL_4cec18973b304f7e93cd40225963bc2d"
     }
    },
    "e06f1c2c8b1140f188d3780903b3dedd": {
     "model_module": "@jupyter-widgets/controls",
     "model_module_version": "1.5.0",
     "model_name": "DescriptionStyleModel",
     "state": {
      "_model_module": "@jupyter-widgets/controls",
      "_model_module_version": "1.5.0",
      "_model_name": "DescriptionStyleModel",
      "_view_count": null,
      "_view_module": "@jupyter-widgets/base",
      "_view_module_version": "1.2.0",
      "_view_name": "StyleView",
      "description_width": ""
     }
    },
    "e9ff8345ee5d43469a80b37907c41953": {
     "model_module": "@jupyter-widgets/controls",
     "model_module_version": "1.5.0",
     "model_name": "DropdownModel",
     "state": {
      "_dom_classes": [],
      "_model_module": "@jupyter-widgets/controls",
      "_model_module_version": "1.5.0",
      "_model_name": "DropdownModel",
      "_options_labels": [
       "August"
      ],
      "_view_count": null,
      "_view_module": "@jupyter-widgets/controls",
      "_view_module_version": "1.5.0",
      "_view_name": "DropdownView",
      "description": "Select Month:",
      "description_tooltip": null,
      "disabled": false,
      "index": 0,
      "layout": "IPY_MODEL_d57ab207ade2439c9b44a4382240bcba",
      "style": "IPY_MODEL_a53bedb33ee947fabaa2abef4412a721"
     }
    }
   }
  }
 },
 "nbformat": 4,
 "nbformat_minor": 1
}
